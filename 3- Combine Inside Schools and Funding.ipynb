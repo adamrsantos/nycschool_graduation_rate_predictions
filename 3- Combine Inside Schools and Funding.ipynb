{
 "cells": [
  {
   "cell_type": "markdown",
   "metadata": {},
   "source": [
    "## 3- Combine data from Inside Schools and Chalkbeat"
   ]
  },
  {
   "cell_type": "code",
   "execution_count": 86,
   "metadata": {},
   "outputs": [],
   "source": [
    "import pandas as pd\n",
    "import numpy as np\n",
    "import matplotlib.pyplot as plt\n",
    "%matplotlib inline\n",
    "import seaborn as sns\n",
    "from scipy.stats.stats import pearsonr "
   ]
  },
  {
   "cell_type": "markdown",
   "metadata": {},
   "source": [
    "Load data from each website"
   ]
  },
  {
   "cell_type": "code",
   "execution_count": 2,
   "metadata": {},
   "outputs": [],
   "source": [
    "df_is = pd.read_pickle(\"oct_3.pkl\")\n",
    "df_fund = pd.read_pickle(\"funding_per_student.pkl\")"
   ]
  },
  {
   "cell_type": "markdown",
   "metadata": {},
   "source": [
    "Set column names of Inside Schools dataframe"
   ]
  },
  {
   "cell_type": "code",
   "execution_count": 3,
   "metadata": {},
   "outputs": [],
   "source": [
    "df_is = df_is[['How many students graduate in 4 years?','School Name','School Code','Address', 'Asian', 'Average daily attendance', 'Black',\n",
    "       'English language learners', 'Enrollment',\n",
    "       'Free or reduced priced lunch', 'Hispanic',\n",
    "       'How many English language learners graduate in 4 years?',\n",
    "       'How many graduates earn Advanced Regents diplomas?',\n",
    "       'How many graduates stay enrolled in college for at least 3 semesters?',\n",
    "       'How many students graduate with test scores high enough to enroll at CUNY without remedial help?',\n",
    "       'How many students miss 18 or more days of school?',\n",
    "       'How many students say they feel safe in the hallways, bathrooms and locker rooms?',\n",
    "       'How many students take a college-level course or earn a professional certificate?',\n",
    "       'How many students think bullying happens most or all of the time at this school?',\n",
    "       'How many students were suspended?',\n",
    "       'How many students with disabilities graduate in 4 years?',\n",
    "       'How many teachers have 3 or more years of experience teaching?',\n",
    "       'How many teachers say order and discipline are maintained at this school?',\n",
    "       'How many teachers say the principal is an effective manager?',\n",
    "       'How many teachers say they would recommend this school to other families?',\n",
    "       'Metal detectors?', 'Other',  \n",
    "       'Shared campus?', 'Students with disabilities', 'Teacher Effectiveness',\n",
    "       'White', 'Years of principal experience at this school']]\n"
   ]
  },
  {
   "cell_type": "markdown",
   "metadata": {},
   "source": [
    "Use close matches to change school names that differ slightly to match them between dataframes"
   ]
  },
  {
   "cell_type": "code",
   "execution_count": 13,
   "metadata": {},
   "outputs": [
    {
     "data": {
      "text/plain": [
       "433"
      ]
     },
     "execution_count": 13,
     "metadata": {},
     "output_type": "execute_result"
    }
   ],
   "source": [
    "import difflib\n",
    "\n",
    "school_names=df_is['School Name'].map(lambda x: difflib.get_close_matches(x, df_fund['School'], n=1))\n",
    "school_names = [s[0] if s else '' for s in school_names]\n",
    "len(school_names)"
   ]
  },
  {
   "cell_type": "markdown",
   "metadata": {},
   "source": [
    "Merge data frames to put inside school data and funding data together"
   ]
  },
  {
   "cell_type": "code",
   "execution_count": 74,
   "metadata": {},
   "outputs": [],
   "source": [
    "df_merged = pd.merge(df_is,df_fund,left_on='New School Name',right_on='School',how='left')\n",
    "#df_merged.head()"
   ]
  },
  {
   "cell_type": "markdown",
   "metadata": {},
   "source": [
    "### Clean data for use in Linear Regression"
   ]
  },
  {
   "cell_type": "markdown",
   "metadata": {},
   "source": [
    "Drop schools that don't have the target value available"
   ]
  },
  {
   "cell_type": "code",
   "execution_count": 75,
   "metadata": {},
   "outputs": [],
   "source": [
    "df_merged = df_merged[pd.notnull(df_merged['How many students graduate in 4 years?'])]\n",
    "#df_merged.info()"
   ]
  },
  {
   "cell_type": "markdown",
   "metadata": {},
   "source": [
    "Drop data related to metal detectors, shared campuses, and students with disabilities due to lack of data (less than half of schools have this information)"
   ]
  },
  {
   "cell_type": "code",
   "execution_count": 76,
   "metadata": {},
   "outputs": [],
   "source": [
    "df_merged=df_merged.drop(['Metal detectors?'], axis=1)"
   ]
  },
  {
   "cell_type": "code",
   "execution_count": 78,
   "metadata": {},
   "outputs": [],
   "source": [
    "df_merged=df_merged.drop(['Shared campus?'], axis=1)"
   ]
  },
  {
   "cell_type": "code",
   "execution_count": 118,
   "metadata": {},
   "outputs": [],
   "source": [
    "df_merged=df_merged.drop(['How many students with disabilities graduate in 4 years?'], axis=1)"
   ]
  },
  {
   "cell_type": "markdown",
   "metadata": {},
   "source": [
    "Drop redundant School Name column"
   ]
  },
  {
   "cell_type": "code",
   "execution_count": 123,
   "metadata": {},
   "outputs": [],
   "source": [
    "df_merged=df_merged.drop(['School'], axis=1)"
   ]
  },
  {
   "cell_type": "markdown",
   "metadata": {},
   "source": [
    "Fill in missing values for a few schools that were missing information"
   ]
  },
  {
   "cell_type": "code",
   "execution_count": 80,
   "metadata": {},
   "outputs": [],
   "source": [
    "df_merged['How many graduates stay enrolled in college for at least 3 semesters?'] = df_merged['How many graduates stay enrolled in college for at least 3 semesters?'].fillna(df_merged['How many students graduate with test scores high enough to enroll at CUNY without remedial help?'])"
   ]
  },
  {
   "cell_type": "code",
   "execution_count": 109,
   "metadata": {},
   "outputs": [],
   "source": [
    "df_merged['How many students were suspended?'].fillna((df_merged['How many students were suspended?'].mean()), inplace=True)\n"
   ]
  },
  {
   "cell_type": "markdown",
   "metadata": {},
   "source": [
    "Convert school funding column to float"
   ]
  },
  {
   "cell_type": "code",
   "execution_count": 136,
   "metadata": {},
   "outputs": [
    {
     "data": {
      "text/html": [
       "<div>\n",
       "<style scoped>\n",
       "    .dataframe tbody tr th:only-of-type {\n",
       "        vertical-align: middle;\n",
       "    }\n",
       "\n",
       "    .dataframe tbody tr th {\n",
       "        vertical-align: top;\n",
       "    }\n",
       "\n",
       "    .dataframe thead th {\n",
       "        text-align: right;\n",
       "    }\n",
       "</style>\n",
       "<table border=\"1\" class=\"dataframe\">\n",
       "  <thead>\n",
       "    <tr style=\"text-align: right;\">\n",
       "      <th></th>\n",
       "      <th>How many students graduate in 4 years?</th>\n",
       "      <th>School Name</th>\n",
       "      <th>School Code</th>\n",
       "      <th>Address</th>\n",
       "      <th>Asian</th>\n",
       "      <th>Average daily attendance</th>\n",
       "      <th>Black</th>\n",
       "      <th>English language learners</th>\n",
       "      <th>Enrollment</th>\n",
       "      <th>Free or reduced priced lunch</th>\n",
       "      <th>...</th>\n",
       "      <th>How many teachers have 3 or more years of experience teaching?</th>\n",
       "      <th>How many teachers say order and discipline are maintained at this school?</th>\n",
       "      <th>How many teachers say the principal is an effective manager?</th>\n",
       "      <th>How many teachers say they would recommend this school to other families?</th>\n",
       "      <th>Other</th>\n",
       "      <th>Students with disabilities</th>\n",
       "      <th>Teacher Effectiveness</th>\n",
       "      <th>White</th>\n",
       "      <th>Years of principal experience at this school</th>\n",
       "      <th>$ per Student</th>\n",
       "    </tr>\n",
       "  </thead>\n",
       "  <tbody>\n",
       "    <tr>\n",
       "      <th>1</th>\n",
       "      <td>78.0</td>\n",
       "      <td>Urban Assembly High School of Music and Art</td>\n",
       "      <td>13K350</td>\n",
       "      <td>49 Flatbush Avenue Extension Brooklyn NY 11201</td>\n",
       "      <td>1.0</td>\n",
       "      <td>81.0</td>\n",
       "      <td>77.0</td>\n",
       "      <td>3.0</td>\n",
       "      <td>221.0</td>\n",
       "      <td>86.0</td>\n",
       "      <td>...</td>\n",
       "      <td>47.0</td>\n",
       "      <td>55.0</td>\n",
       "      <td>73.0</td>\n",
       "      <td>73.0</td>\n",
       "      <td>1.0</td>\n",
       "      <td>23.0</td>\n",
       "      <td>2</td>\n",
       "      <td>2.0</td>\n",
       "      <td>12.0</td>\n",
       "      <td>25572.0</td>\n",
       "    </tr>\n",
       "    <tr>\n",
       "      <th>2</th>\n",
       "      <td>96.0</td>\n",
       "      <td>Queens Gateway to Health Sciences Secondary Sc...</td>\n",
       "      <td>28Q680</td>\n",
       "      <td>160-20 Goethals Avenue Jamaica NY 11432</td>\n",
       "      <td>51.0</td>\n",
       "      <td>98.0</td>\n",
       "      <td>27.0</td>\n",
       "      <td>1.0</td>\n",
       "      <td>690.0</td>\n",
       "      <td>63.0</td>\n",
       "      <td>...</td>\n",
       "      <td>89.0</td>\n",
       "      <td>65.0</td>\n",
       "      <td>53.0</td>\n",
       "      <td>68.0</td>\n",
       "      <td>8.0</td>\n",
       "      <td>12.0</td>\n",
       "      <td>4</td>\n",
       "      <td>4.0</td>\n",
       "      <td>5.2</td>\n",
       "      <td>19613.0</td>\n",
       "    </tr>\n",
       "    <tr>\n",
       "      <th>3</th>\n",
       "      <td>70.0</td>\n",
       "      <td>Women's Academy of Excellence</td>\n",
       "      <td>08X282</td>\n",
       "      <td>456 White Plains Road Bronx NY 10473</td>\n",
       "      <td>11.0</td>\n",
       "      <td>75.0</td>\n",
       "      <td>41.0</td>\n",
       "      <td>21.0</td>\n",
       "      <td>281.0</td>\n",
       "      <td>93.0</td>\n",
       "      <td>...</td>\n",
       "      <td>87.0</td>\n",
       "      <td>92.0</td>\n",
       "      <td>83.0</td>\n",
       "      <td>88.0</td>\n",
       "      <td>4.0</td>\n",
       "      <td>19.0</td>\n",
       "      <td>3</td>\n",
       "      <td>12.0</td>\n",
       "      <td>13.0</td>\n",
       "      <td>24451.0</td>\n",
       "    </tr>\n",
       "    <tr>\n",
       "      <th>4</th>\n",
       "      <td>97.0</td>\n",
       "      <td>World Journalism Preparatory: A College Board ...</td>\n",
       "      <td>25Q285</td>\n",
       "      <td>34-65 192nd Street Flushing NY 11358</td>\n",
       "      <td>15.0</td>\n",
       "      <td>95.0</td>\n",
       "      <td>4.0</td>\n",
       "      <td>2.0</td>\n",
       "      <td>567.0</td>\n",
       "      <td>56.0</td>\n",
       "      <td>...</td>\n",
       "      <td>76.0</td>\n",
       "      <td>97.0</td>\n",
       "      <td>100.0</td>\n",
       "      <td>95.0</td>\n",
       "      <td>2.0</td>\n",
       "      <td>19.0</td>\n",
       "      <td>4</td>\n",
       "      <td>44.0</td>\n",
       "      <td>0.6</td>\n",
       "      <td>20175.0</td>\n",
       "    </tr>\n",
       "    <tr>\n",
       "      <th>5</th>\n",
       "      <td>74.0</td>\n",
       "      <td>ACORN Community High School</td>\n",
       "      <td>13K499</td>\n",
       "      <td>561 Grand Avenue Brooklyn NY 11238</td>\n",
       "      <td>2.0</td>\n",
       "      <td>80.0</td>\n",
       "      <td>79.0</td>\n",
       "      <td>5.0</td>\n",
       "      <td>193.0</td>\n",
       "      <td>82.0</td>\n",
       "      <td>...</td>\n",
       "      <td>100.0</td>\n",
       "      <td>67.0</td>\n",
       "      <td>67.0</td>\n",
       "      <td>67.0</td>\n",
       "      <td>1.0</td>\n",
       "      <td>28.0</td>\n",
       "      <td>3</td>\n",
       "      <td>3.0</td>\n",
       "      <td>7.0</td>\n",
       "      <td>31684.0</td>\n",
       "    </tr>\n",
       "  </tbody>\n",
       "</table>\n",
       "<p>5 rows × 29 columns</p>\n",
       "</div>"
      ],
      "text/plain": [
       "   How many students graduate in 4 years?  \\\n",
       "1                                    78.0   \n",
       "2                                    96.0   \n",
       "3                                    70.0   \n",
       "4                                    97.0   \n",
       "5                                    74.0   \n",
       "\n",
       "                                         School Name School Code  \\\n",
       "1        Urban Assembly High School of Music and Art      13K350   \n",
       "2  Queens Gateway to Health Sciences Secondary Sc...      28Q680   \n",
       "3                      Women's Academy of Excellence      08X282   \n",
       "4  World Journalism Preparatory: A College Board ...      25Q285   \n",
       "5                        ACORN Community High School      13K499   \n",
       "\n",
       "                                          Address  Asian  \\\n",
       "1  49 Flatbush Avenue Extension Brooklyn NY 11201    1.0   \n",
       "2         160-20 Goethals Avenue Jamaica NY 11432   51.0   \n",
       "3            456 White Plains Road Bronx NY 10473   11.0   \n",
       "4            34-65 192nd Street Flushing NY 11358   15.0   \n",
       "5              561 Grand Avenue Brooklyn NY 11238    2.0   \n",
       "\n",
       "   Average daily attendance  Black  English language learners  Enrollment  \\\n",
       "1                      81.0   77.0                        3.0       221.0   \n",
       "2                      98.0   27.0                        1.0       690.0   \n",
       "3                      75.0   41.0                       21.0       281.0   \n",
       "4                      95.0    4.0                        2.0       567.0   \n",
       "5                      80.0   79.0                        5.0       193.0   \n",
       "\n",
       "   Free or reduced priced lunch      ...        \\\n",
       "1                          86.0      ...         \n",
       "2                          63.0      ...         \n",
       "3                          93.0      ...         \n",
       "4                          56.0      ...         \n",
       "5                          82.0      ...         \n",
       "\n",
       "   How many teachers have 3 or more years of experience teaching?  \\\n",
       "1                                               47.0                \n",
       "2                                               89.0                \n",
       "3                                               87.0                \n",
       "4                                               76.0                \n",
       "5                                              100.0                \n",
       "\n",
       "   How many teachers say order and discipline are maintained at this school?  \\\n",
       "1                                               55.0                           \n",
       "2                                               65.0                           \n",
       "3                                               92.0                           \n",
       "4                                               97.0                           \n",
       "5                                               67.0                           \n",
       "\n",
       "   How many teachers say the principal is an effective manager?  \\\n",
       "1                                               73.0              \n",
       "2                                               53.0              \n",
       "3                                               83.0              \n",
       "4                                              100.0              \n",
       "5                                               67.0              \n",
       "\n",
       "   How many teachers say they would recommend this school to other families?  \\\n",
       "1                                               73.0                           \n",
       "2                                               68.0                           \n",
       "3                                               88.0                           \n",
       "4                                               95.0                           \n",
       "5                                               67.0                           \n",
       "\n",
       "   Other  Students with disabilities  Teacher Effectiveness  White  \\\n",
       "1    1.0                        23.0                      2    2.0   \n",
       "2    8.0                        12.0                      4    4.0   \n",
       "3    4.0                        19.0                      3   12.0   \n",
       "4    2.0                        19.0                      4   44.0   \n",
       "5    1.0                        28.0                      3    3.0   \n",
       "\n",
       "   Years of principal experience at this school  $ per Student  \n",
       "1                                          12.0        25572.0  \n",
       "2                                           5.2        19613.0  \n",
       "3                                          13.0        24451.0  \n",
       "4                                           0.6        20175.0  \n",
       "5                                           7.0        31684.0  \n",
       "\n",
       "[5 rows x 29 columns]"
      ]
     },
     "execution_count": 136,
     "metadata": {},
     "output_type": "execute_result"
    }
   ],
   "source": [
    "df_merged['$ per Student'] = df_merged['$ per Student'].str.replace(',','')\n",
    "df_merged['$ per Student'] = df_merged['$ per Student'].astype(float)\n",
    "df_merged.head()"
   ]
  },
  {
   "cell_type": "markdown",
   "metadata": {},
   "source": [
    "Save clean dataframe for use in Linear Regression"
   ]
  },
  {
   "cell_type": "code",
   "execution_count": 137,
   "metadata": {},
   "outputs": [],
   "source": [
    "df_merged.to_pickle(\"clean_school_df.pkl\")"
   ]
  }
 ],
 "metadata": {
  "kernelspec": {
   "display_name": "Python 3",
   "language": "python",
   "name": "python3"
  },
  "language_info": {
   "codemirror_mode": {
    "name": "ipython",
    "version": 3
   },
   "file_extension": ".py",
   "mimetype": "text/x-python",
   "name": "python",
   "nbconvert_exporter": "python",
   "pygments_lexer": "ipython3",
   "version": "3.6.5"
  }
 },
 "nbformat": 4,
 "nbformat_minor": 2
}
