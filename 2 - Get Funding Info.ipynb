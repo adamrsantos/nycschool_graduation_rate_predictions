{
 "cells": [
  {
   "cell_type": "markdown",
   "metadata": {},
   "source": [
    "## Get School Funding Info from Chalkbeat"
   ]
  },
  {
   "cell_type": "code",
   "execution_count": 1,
   "metadata": {},
   "outputs": [],
   "source": [
    "import requests\n",
    "import time\n",
    "import sys\n",
    "import os\n",
    "from bs4 import BeautifulSoup\n",
    "from selenium import webdriver\n",
    "from selenium.webdriver.common.keys import Keys\n",
    "from selenium.webdriver.common.action_chains import ActionChains"
   ]
  },
  {
   "cell_type": "markdown",
   "metadata": {},
   "source": [
    "Connect to chalkbeat funding information via google chrome driver"
   ]
  },
  {
   "cell_type": "code",
   "execution_count": 2,
   "metadata": {},
   "outputs": [],
   "source": [
    "chromedriver = \"/Applications/chromedriver\" # path to the chromedriver executable\n",
    "os.environ[\"webdriver.chrome.driver\"] = chromedriver\n",
    "\n",
    "driver = webdriver.Chrome(chromedriver)\n",
    "driver.get(\"https://www.chalkbeat.org/wp-content/static/shortcodes/searchfield/?sheet=publish&key=1A1tknyJWD20gu1qrBdvrzFY2yEhazOY5H-B_ImgMhSc&initialWidth=650&childId=1A1tknyJWD20gu1qrBdvrzFY2yEhazOY5H-B_ImgMhSc&parentTitle=Find%20out%20what%20your%20New%20York%20City%20school%20spends%20per%20student&parentUrl=https%3A%2F%2Fwww.chalkbeat.org%2Fposts%2Fny%2F2018%2F08%2F31%2Fhow-does-your-schools-budget-compare-to-others-in-new-york-city%2F\")"
   ]
  },
  {
   "cell_type": "markdown",
   "metadata": {},
   "source": [
    "Test connection to site and finding certain elements"
   ]
  },
  {
   "cell_type": "code",
   "execution_count": 3,
   "metadata": {},
   "outputs": [],
   "source": [
    "form = driver.find_element_by_xpath(\"//input[contains(@class,'choices__input')]\")\n",
    "form.click()"
   ]
  },
  {
   "cell_type": "code",
   "execution_count": 4,
   "metadata": {},
   "outputs": [],
   "source": [
    "school = driver.find_element_by_id(\"choices-select-item-choice-1000\")\n",
    "school.click()"
   ]
  },
  {
   "cell_type": "code",
   "execution_count": 5,
   "metadata": {},
   "outputs": [
    {
     "data": {
      "text/plain": [
       "'$24,082'"
      ]
     },
     "execution_count": 5,
     "metadata": {},
     "output_type": "execute_result"
    }
   ],
   "source": [
    "fund_selector = '//td[contains(text(),\"$\")]'\n",
    "funds = driver.find_element_by_xpath(fund_selector).text\n",
    "funds"
   ]
  },
  {
   "cell_type": "code",
   "execution_count": 6,
   "metadata": {},
   "outputs": [],
   "source": [
    "exit_button = driver.find_element_by_xpath('//button[contains(@class,\"choices__button\")]')\n",
    "exit_button.click()"
   ]
  },
  {
   "cell_type": "code",
   "execution_count": 11,
   "metadata": {},
   "outputs": [],
   "source": [
    "school = '//th[contains(text(),\"\")]'\n",
    "school_name = driver.find_element_by_xpath(school).text\n",
    "school_name"
   ]
  },
  {
   "cell_type": "markdown",
   "metadata": {},
   "source": [
    "Main function to go through school funding drop down and grab school and funding information"
   ]
  },
  {
   "cell_type": "code",
   "execution_count": 9,
   "metadata": {},
   "outputs": [],
   "source": [
    "def get_the_funds():\n",
    "    \n",
    "    data = []\n",
    "    \n",
    "    for i in range(1,1628):\n",
    "    \n",
    "        form = driver.find_element_by_xpath(\"//input[contains(@class,'choices__input')]\")\n",
    "        form.click()\n",
    "\n",
    "        school = driver.find_element_by_id(\"choices-select-item-choice-\"+str(i))\n",
    "        school.click()\n",
    "\n",
    "        school_name = '//th[contains(text(),\"\")]'\n",
    "        school_name_text = driver.find_element_by_xpath(school_name).text\n",
    "\n",
    "        fund_selector = '//td[contains(text(),\"$\")]'\n",
    "        fund_value = driver.find_element_by_xpath(fund_selector).text\n",
    "\n",
    "        data.append((school_name_text,fund_value))\n",
    "\n",
    "        exit_button = driver.find_element_by_xpath('//button[contains(@class,\"choices__button\")]')\n",
    "        exit_button.click()\n",
    "    \n",
    "    return data\n",
    "\n",
    "#vals = get_the_funds()\n",
    "#vals[0:15]"
   ]
  },
  {
   "cell_type": "code",
   "execution_count": 10,
   "metadata": {},
   "outputs": [
    {
     "data": {
      "text/plain": [
       "(\"Young Women's Leadership School, Queens\", '$18,466')"
      ]
     },
     "execution_count": 10,
     "metadata": {},
     "output_type": "execute_result"
    }
   ],
   "source": [
    "vals[-1]"
   ]
  },
  {
   "cell_type": "markdown",
   "metadata": {},
   "source": [
    "Convert scraped values to datafram and check"
   ]
  },
  {
   "cell_type": "code",
   "execution_count": 12,
   "metadata": {},
   "outputs": [
    {
     "data": {
      "text/html": [
       "<div>\n",
       "<style scoped>\n",
       "    .dataframe tbody tr th:only-of-type {\n",
       "        vertical-align: middle;\n",
       "    }\n",
       "\n",
       "    .dataframe tbody tr th {\n",
       "        vertical-align: top;\n",
       "    }\n",
       "\n",
       "    .dataframe thead th {\n",
       "        text-align: right;\n",
       "    }\n",
       "</style>\n",
       "<table border=\"1\" class=\"dataframe\">\n",
       "  <thead>\n",
       "    <tr style=\"text-align: right;\">\n",
       "      <th></th>\n",
       "      <th>School</th>\n",
       "      <th>$ per Student</th>\n",
       "    </tr>\n",
       "  </thead>\n",
       "  <tbody>\n",
       "    <tr>\n",
       "      <th>0</th>\n",
       "      <td>47 The American Sign Language and English Seco...</td>\n",
       "      <td>$29,476</td>\n",
       "    </tr>\n",
       "    <tr>\n",
       "      <th>1</th>\n",
       "      <td>A. Philip Randolph Campus High School</td>\n",
       "      <td>$20,440</td>\n",
       "    </tr>\n",
       "    <tr>\n",
       "      <th>2</th>\n",
       "      <td>A.C.E. Academy for Scholars at the Geraldine F...</td>\n",
       "      <td>$19,736</td>\n",
       "    </tr>\n",
       "    <tr>\n",
       "      <th>3</th>\n",
       "      <td>Abraham Lincoln High School</td>\n",
       "      <td>$20,884</td>\n",
       "    </tr>\n",
       "    <tr>\n",
       "      <th>4</th>\n",
       "      <td>Abraham Lincoln YABC</td>\n",
       "      <td>$12,248</td>\n",
       "    </tr>\n",
       "  </tbody>\n",
       "</table>\n",
       "</div>"
      ],
      "text/plain": [
       "                                              School $ per Student\n",
       "0  47 The American Sign Language and English Seco...       $29,476\n",
       "1              A. Philip Randolph Campus High School       $20,440\n",
       "2  A.C.E. Academy for Scholars at the Geraldine F...       $19,736\n",
       "3                        Abraham Lincoln High School       $20,884\n",
       "4                               Abraham Lincoln YABC       $12,248"
      ]
     },
     "execution_count": 12,
     "metadata": {},
     "output_type": "execute_result"
    }
   ],
   "source": [
    "import pandas as pd\n",
    "df = pd.DataFrame(vals, columns=['School','$ per Student'])\n",
    "df.head()"
   ]
  },
  {
   "cell_type": "markdown",
   "metadata": {},
   "source": [
    "Save funding data for future use"
   ]
  },
  {
   "cell_type": "code",
   "execution_count": 13,
   "metadata": {},
   "outputs": [],
   "source": [
    "df.to_pickle(\"funding_per_student.pkl\")"
   ]
  }
 ],
 "metadata": {
  "kernelspec": {
   "display_name": "Python 3",
   "language": "python",
   "name": "python3"
  },
  "language_info": {
   "codemirror_mode": {
    "name": "ipython",
    "version": 3
   },
   "file_extension": ".py",
   "mimetype": "text/x-python",
   "name": "python",
   "nbconvert_exporter": "python",
   "pygments_lexer": "ipython3",
   "version": "3.6.5"
  }
 },
 "nbformat": 4,
 "nbformat_minor": 2
}
